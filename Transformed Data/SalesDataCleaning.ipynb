{
  "nbformat": 4,
  "nbformat_minor": 0,
  "metadata": {
    "colab": {
      "provenance": [],
      "include_colab_link": true
    },
    "kernelspec": {
      "name": "python3",
      "display_name": "Python 3"
    },
    "language_info": {
      "name": "python"
    }
  },
  "cells": [
    {
      "cell_type": "markdown",
      "metadata": {
        "id": "view-in-github",
        "colab_type": "text"
      },
      "source": [
        "<a href=\"https://colab.research.google.com/github/202422/Sales-Data-Visualization/blob/main/Transformed%20Data/SalesDataCleaning.ipynb\" target=\"_parent\"><img src=\"https://colab.research.google.com/assets/colab-badge.svg\" alt=\"Open In Colab\"/></a>"
      ]
    },
    {
      "cell_type": "code",
      "source": [
        "import pandas as pd\n",
        "import os"
      ],
      "metadata": {
        "id": "lORL39LzrCc4"
      },
      "execution_count": null,
      "outputs": []
    },
    {
      "cell_type": "code",
      "source": [
        "# 1. Dossier contenant tes 12 fichiers CSV mensuels\n",
        "\n",
        "folder_path = '/content'"
      ],
      "metadata": {
        "id": "f1xvLSOVsrSW"
      },
      "execution_count": null,
      "outputs": []
    },
    {
      "cell_type": "code",
      "source": [
        "# 2. Liste tous les fichiers CSV dans ce dossier\n",
        "csv_files = [file for file in os.listdir(folder_path) if file.endswith('.csv')]"
      ],
      "metadata": {
        "id": "asGfqSees3Mc"
      },
      "execution_count": null,
      "outputs": []
    },
    {
      "cell_type": "code",
      "source": [
        "# 3. Fusionne tous les fichiers en ajoutant la provenance\n",
        "dataframes = []\n",
        "for file in csv_files:\n",
        "    file_path = os.path.join(folder_path, file)\n",
        "    df = pd.read_csv(file_path)\n",
        "\n",
        "    # Ajouter nom du fichier comme source\n",
        "    df['Fichier Source'] = file\n",
        "    dataframes.append(df)"
      ],
      "metadata": {
        "id": "QhWMdmEps9ks"
      },
      "execution_count": null,
      "outputs": []
    },
    {
      "cell_type": "code",
      "source": [
        "# 4. Combiner tous les fichiers dans un seul DataFrame\n",
        "merged_df = pd.concat(dataframes, ignore_index=True)"
      ],
      "metadata": {
        "id": "wIto7WY3tGYL"
      },
      "execution_count": null,
      "outputs": []
    },
    {
      "cell_type": "code",
      "source": [
        "# 5. Nettoyage des données\n",
        "merged_df.dropna(subset=['Order Date', 'Quantity Ordered', 'Price Each'], inplace=True)\n",
        "\n",
        "# Supprimer lignes non valides (certaines contiennent du texte ou des entêtes dupliquées)\n",
        "merged_df = merged_df[merged_df['Order Date'].str[0:1].str.isnumeric()]\n",
        "\n",
        "# Convertir les types\n",
        "merged_df['Order Date'] = pd.to_datetime(merged_df['Order Date'], format='%m/%d/%y %H:%M')\n",
        "merged_df['Quantity Ordered'] = pd.to_numeric(merged_df['Quantity Ordered'])\n",
        "merged_df['Price Each'] = pd.to_numeric(merged_df['Price Each'])"
      ],
      "metadata": {
        "id": "prcL-Xo7tKiQ"
      },
      "execution_count": null,
      "outputs": []
    },
    {
      "cell_type": "code",
      "source": [
        "# 6. Ajouter des colonnes utiles\n",
        "merged_df['Sales'] = merged_df['Quantity Ordered'] * merged_df['Price Each']\n",
        "merged_df['Month'] = merged_df['Order Date'].dt.month\n",
        "merged_df['Month Name'] = merged_df['Order Date'].dt.month_name()\n",
        "merged_df['Year'] = merged_df['Order Date'].dt.year\n",
        "merged_df['Hour'] = merged_df['Order Date'].dt.hour\n",
        "\n",
        "# Extraire ville et état\n",
        "def extract_city(address):\n",
        "    try:\n",
        "        return address.split(',')[1].strip()\n",
        "    except:\n",
        "        return None\n",
        "\n",
        "def extract_state(address):\n",
        "    try:\n",
        "        return address.split(',')[2].strip().split(' ')[0]\n",
        "    except:\n",
        "        return None\n",
        "\n",
        "merged_df['City'] = merged_df['Purchase Address'].apply(extract_city)\n",
        "merged_df['State'] = merged_df['Purchase Address'].apply(extract_state)\n",
        "merged_df['City+State'] = merged_df['City'] + ' (' + merged_df['State'] + ')'"
      ],
      "metadata": {
        "id": "_GYomEABtO_0"
      },
      "execution_count": null,
      "outputs": []
    },
    {
      "cell_type": "code",
      "source": [
        "# 7. Sauvegarder le fichier prêt pour Tableau\n",
        "output_path = '/content/sales_data.csv'\n",
        "output_excel_path = '/content/sales_data.xlsx'\n",
        "merged_df.to_csv(output_path, index=False)\n",
        "merged_df.to_excel(output_excel_path, index=False)\n",
        "\n",
        "print(f\"✅ Dataset propre enregistré ici : {output_path}\")"
      ],
      "metadata": {
        "colab": {
          "base_uri": "https://localhost:8080/"
        },
        "id": "8OoLDRLEtVAh",
        "outputId": "470ee31b-d874-4d35-ff77-bb1757c065cf"
      },
      "execution_count": null,
      "outputs": [
        {
          "output_type": "stream",
          "name": "stdout",
          "text": [
            "✅ Dataset propre enregistré ici : /content/sales_data.csv\n"
          ]
        }
      ]
    }
  ]
}